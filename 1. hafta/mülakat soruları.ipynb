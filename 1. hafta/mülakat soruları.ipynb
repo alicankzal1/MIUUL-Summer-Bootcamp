{
 "cells": [
  {
   "cell_type": "code",
   "execution_count": 30,
   "id": "46f4cfca",
   "metadata": {},
   "outputs": [
    {
     "name": "stdout",
     "output_type": "stream",
     "text": [
      "MeRhAbA BeNiM AdIm aLi cAn\n"
     ]
    }
   ],
   "source": [
    "def alternating(string):\n",
    "    new_string = \"\"\n",
    "    for string_index in range(len(string)):\n",
    "        if string_index % 2 == 0:\n",
    "            new_string += string[string_index].upper()\n",
    "        else:\n",
    "            new_string += string[string_index].lower()\n",
    "    print(new_string)\n",
    "alternating(\"merhaba benim adım ali can\")            "
   ]
  },
  {
   "cell_type": "code",
   "execution_count": 42,
   "id": "4554a46c",
   "metadata": {},
   "outputs": [
    {
     "data": {
      "text/plain": [
       "'MeRhAbA BeNiM AdIm aLi cAn'"
      ]
     },
     "execution_count": 42,
     "metadata": {},
     "output_type": "execute_result"
    }
   ],
   "source": [
    "def alternating_with_enumerate(string):\n",
    "    new_string = \"\"\n",
    "    for index, letter in enumerate(string):\n",
    "        if index % 2 == 0:\n",
    "            new_string += letter.upper()\n",
    "        else:\n",
    "            new_string += letter.lower()\n",
    "    return new_string \n",
    "alternating_with_enumerate(\"merhaba benim adım ali can\")\n"
   ]
  },
  {
   "cell_type": "code",
   "execution_count": 32,
   "id": "dd7f219a",
   "metadata": {},
   "outputs": [
    {
     "name": "stdout",
     "output_type": "stream",
     "text": [
      "[['ali', 'ayşe'], ['veli', 'fatma']]\n"
     ]
    },
    {
     "data": {
      "text/plain": [
       "[['ali', 'ayşe'], ['veli', 'fatma']]"
      ]
     },
     "execution_count": 32,
     "metadata": {},
     "output_type": "execute_result"
    }
   ],
   "source": [
    "A = []\n",
    "B = []\n",
    "students= [\"ali\", \"veli\", \"ayşe\", \"fatma\"]\n",
    "def divide_students(students):\n",
    "    new_list = [A, B]\n",
    "    for index, student in enumerate(students):\n",
    "        if index % 2 == 0:\n",
    "            A.append(student)\n",
    "        else:\n",
    "            B.append(student)\n",
    "    print(new_list)\n",
    "    return new_list\n",
    "st = divide_students(students)\n",
    "st"
   ]
  },
  {
   "cell_type": "code",
   "execution_count": 31,
   "id": "de1f6488",
   "metadata": {},
   "outputs": [
    {
     "name": "stdout",
     "output_type": "stream",
     "text": [
      "[['ali', 'ayşe'], ['veli', 'fatma']]\n"
     ]
    },
    {
     "data": {
      "text/plain": [
       "[['ali', 'ayşe'], ['veli', 'fatma']]"
      ]
     },
     "execution_count": 31,
     "metadata": {},
     "output_type": "execute_result"
    }
   ],
   "source": [
    "#veya\n",
    "students= [\"ali\", \"veli\", \"ayşe\", \"fatma\"]\n",
    "def divide_students2(students):\n",
    "    new_list = [[], []]\n",
    "    for index, student in enumerate(students):\n",
    "        if index % 2 == 0:\n",
    "            new_list[0].append(student)\n",
    "        else:\n",
    "            new_list[1].append(student)\n",
    "    print(new_list)\n",
    "    return new_list\n",
    "divide_students2(students)"
   ]
  },
  {
   "cell_type": "code",
   "execution_count": 1,
   "id": "23357485",
   "metadata": {},
   "outputs": [
    {
     "data": {
      "text/plain": [
       "{0: 0, 2: 4, 4: 16, 6: 36, 8: 64}"
      ]
     },
     "execution_count": 1,
     "metadata": {},
     "output_type": "execute_result"
    }
   ],
   "source": [
    "#amaç çift sayıların karesini alarak sözlüğe ekle. Orijinal değer key değeri olacak\n",
    "#uzun yöntem\n",
    "numbers = range(10)\n",
    "new_dict = {}\n",
    "for i in numbers:\n",
    "    if i % 2 == 0:\n",
    "        new_dict[i] = i ** 2\n",
    "new_dict"
   ]
  },
  {
   "cell_type": "code",
   "execution_count": 2,
   "id": "3a323492",
   "metadata": {},
   "outputs": [
    {
     "data": {
      "text/plain": [
       "{0: 0, 2: 4, 4: 16, 6: 36, 8: 64}"
      ]
     },
     "execution_count": 2,
     "metadata": {},
     "output_type": "execute_result"
    }
   ],
   "source": [
    "#comprehension yöntemi\n",
    "\n",
    "{i : i ** 2 for i in numbers if i % 2 == 0 }"
   ]
  },
  {
   "cell_type": "code",
   "execution_count": 7,
   "id": "53a229ed",
   "metadata": {},
   "outputs": [
    {
     "name": "stdout",
     "output_type": "stream",
     "text": [
      "Index(['total', 'speeding', 'alcohol', 'not_distracted', 'no_previous',\n",
      "       'ins_premium', 'ins_losses', 'abbrev'],\n",
      "      dtype='object')\n",
      "TOTAL\n",
      "SPEEDING\n",
      "ALCOHOL\n",
      "NOT_DISTRACTED\n",
      "NO_PREVIOUS\n",
      "INS_PREMIUM\n",
      "INS_LOSSES\n",
      "ABBREV\n"
     ]
    },
    {
     "data": {
      "text/plain": [
       "['TOTAL',\n",
       " 'SPEEDING',\n",
       " 'ALCOHOL',\n",
       " 'NOT_DISTRACTED',\n",
       " 'NO_PREVIOUS',\n",
       " 'INS_PREMIUM',\n",
       " 'INS_LOSSES',\n",
       " 'ABBREV']"
      ]
     },
     "execution_count": 7,
     "metadata": {},
     "output_type": "execute_result"
    }
   ],
   "source": [
    "# bir veri setindeki column isimlerini değiştirmek\n",
    "import seaborn as sns\n",
    "df = sns.load_dataset(\"car_crashes\")\n",
    "print(df.columns)\n",
    "#uzun yöntem\n",
    "A = []\n",
    "for col in df.columns:\n",
    "    print(col.upper())\n",
    "    A.append(col.upper())\n",
    "A\n"
   ]
  },
  {
   "cell_type": "code",
   "execution_count": 9,
   "id": "19fe58f6",
   "metadata": {},
   "outputs": [
    {
     "data": {
      "text/plain": [
       "Index(['TOTAL', 'SPEEDING', 'ALCOHOL', 'NOT_DISTRACTED', 'NO_PREVIOUS',\n",
       "       'INS_PREMIUM', 'INS_LOSSES', 'ABBREV'],\n",
       "      dtype='object')"
      ]
     },
     "execution_count": 9,
     "metadata": {},
     "output_type": "execute_result"
    }
   ],
   "source": [
    "#comprehension yöntemi \n",
    "\n",
    "df.columns = [col.upper() for col in df.columns]\n",
    "df.columns"
   ]
  },
  {
   "cell_type": "code",
   "execution_count": 17,
   "id": "199f6d36",
   "metadata": {},
   "outputs": [
    {
     "data": {
      "text/plain": [
       "Index(['NO_FLAG_NO_FLAG_TOTAL', 'NO_FLAG_NO_FLAG_SPEEDING',\n",
       "       'NO_FLAG_NO_FLAG_ALCOHOL', 'NO_FLAG_NO_FLAG_NOT_DISTRACTED',\n",
       "       'NO_FLAG_NO_FLAG_NO_PREVIOUS', 'FLAG_FLAG_INS_PREMIUM',\n",
       "       'FLAG_FLAG_INS_LOSSES', 'NO_FLAG_NO_FLAG_ABBREV'],\n",
       "      dtype='object')"
      ]
     },
     "execution_count": 17,
     "metadata": {},
     "output_type": "execute_result"
    }
   ],
   "source": [
    "#isminde INS olanların başına FLAG diğerlerine NO_FLAG ekle\n",
    "\n",
    "df.columns = [\"FLAG_\" + col if \"INS\" in col else \"NO_FLAG_\" + col for col in df.columns]\n",
    "df.columns"
   ]
  },
  {
   "cell_type": "code",
   "execution_count": null,
   "id": "2c5e2687",
   "metadata": {},
   "outputs": [],
   "source": []
  }
 ],
 "metadata": {
  "kernelspec": {
   "display_name": "Python 3 (ipykernel)",
   "language": "python",
   "name": "python3"
  },
  "language_info": {
   "codemirror_mode": {
    "name": "ipython",
    "version": 3
   },
   "file_extension": ".py",
   "mimetype": "text/x-python",
   "name": "python",
   "nbconvert_exporter": "python",
   "pygments_lexer": "ipython3",
   "version": "3.11.3"
  }
 },
 "nbformat": 4,
 "nbformat_minor": 5
}
