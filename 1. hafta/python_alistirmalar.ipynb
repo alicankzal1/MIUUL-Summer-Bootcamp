{
 "cells": [
  {
   "cell_type": "code",
   "execution_count": 6,
   "id": "f5343b4e",
   "metadata": {},
   "outputs": [
    {
     "name": "stdout",
     "output_type": "stream",
     "text": [
      "<class 'int'>\n",
      "<class 'float'>\n",
      "<class 'complex'>\n",
      "<class 'str'>\n",
      "<class 'bool'>\n",
      "<class 'bool'>\n",
      "<class 'list'>\n",
      "<class 'dict'>\n",
      "<class 'tuple'>\n",
      "<class 'set'>\n"
     ]
    }
   ],
   "source": [
    "#verilen değerlerin veri yapılarıı inceleyiniz.\n",
    "x = 8\n",
    "y = 3.2\n",
    "z = 8j + 18\n",
    "a = \"Hello World\"\n",
    "b = True\n",
    "c = 23 < 22\n",
    "l = [1, 2, 3, 4]\n",
    "d = {\"Name\": \"Jake\",\n",
    "     \"Age\": 27,\n",
    "     \"Adress\": \"Downtown\"}\n",
    "t = (\"Machine Learning\", \"Data Science\")\n",
    "s = {\"Python\", \"Machine Learning\", \"Data Science\"}\n",
    "print(type(x))\n",
    "print(type(y))\n",
    "print(type(z))\n",
    "print(type(a))\n",
    "print(type(b))\n",
    "print(type(c))\n",
    "print(type(l))\n",
    "print(type(d))\n",
    "print(type(t))\n",
    "print(type(s))"
   ]
  },
  {
   "cell_type": "code",
   "execution_count": 10,
   "id": "67f12f89",
   "metadata": {},
   "outputs": [
    {
     "name": "stdout",
     "output_type": "stream",
     "text": [
      "['THE', 'GOAL', 'IS', 'TO', 'TURN', 'DATA', 'INTO', 'INFORMATION', 'AND', 'INFORMATION', 'INTO', 'INSIGHT']\n"
     ]
    }
   ],
   "source": [
    "#Görev 2:  Verilen string ifadenin tüm harflerini büyük harfe çeviriniz.\n",
    "#Virgül ve nokta yerine space koyunuz, kelime kelime ayırınız.\n",
    "text = \"The goal is to turn data into information, and information into insight.\"\n",
    "print(text.upper().replace(\",\", \"\").replace(\".\", \"\").split())"
   ]
  },
  {
   "cell_type": "code",
   "execution_count": 24,
   "id": "5b43d10f",
   "metadata": {},
   "outputs": [
    {
     "name": "stdout",
     "output_type": "stream",
     "text": [
      "listenin eleman sayısı : 11\n",
      "listenin sıfırıncı indeksi : D, onuncu indeksi : E\n",
      "['D', 'A', 'T', 'A']\n",
      "N\n",
      "None\n",
      "None\n"
     ]
    },
    {
     "data": {
      "text/plain": [
       "['D', 'A', 'T', 'A', 'S', 'C', 'I', 'E', 'N', 'C', 'E', 'X']"
      ]
     },
     "execution_count": 24,
     "metadata": {},
     "output_type": "execute_result"
    }
   ],
   "source": [
    "#### Görev 3 - Verilen listeye aşağıdaki adımları uygulayınız.\n",
    "lst = [\"D\", \"A\", \"T\", \"A\", \"S\", \"C\", \"I\", \"E\", \"N\", \"C\", \"E\"]\n",
    "#Adım 1 : Verilen listenin eleman sayısına bakınız\n",
    "print(f\"listenin eleman sayısı : {len(lst)}\")\n",
    "# Adım 2: Sıfırıncı ve onuncu indeksteki elemanlarını çağırınız.\n",
    "print(f\"listenin sıfırıncı indeksi : {lst[0]}, onuncu indeksi : {lst[10]}\")\n",
    "# Adım 3: Verilen liste üzerinden [\"D\",\"A\",\"T\",\"A\"] listesini oluşturunuz.\n",
    "print(lst[:4])\n",
    "# Adım 4: Sekizinci indeksteki elemanı siliniz.\n",
    "print(lst.pop(8))\n",
    "# Adım 5: Yeni bir eleman ekleyiniz.\n",
    "print(lst.append(\"X\"))\n",
    "# Adım 6: Sekizinci indekse \"N\" elemanını tekrar ekleyiniz.\n",
    "print(lst.insert(8, \"N\"))\n",
    "lst\n"
   ]
  },
  {
   "cell_type": "code",
   "execution_count": 34,
   "id": "f94a4908",
   "metadata": {},
   "outputs": [
    {
     "name": "stdout",
     "output_type": "stream",
     "text": [
      "sözlüğün key değerleri : dict_keys(['Christian', 'Daisy', 'Antonio', 'Dante'])\n",
      "sözlüğün value değerleri : dict_values([['America', 18], ['England', 12], ['Spain', 22], ['Italy', 25]])\n"
     ]
    },
    {
     "data": {
      "text/plain": [
       "{'Christian': ['America', 18],\n",
       " 'Daisy': ['England', 13],\n",
       " 'Dante': ['Italy', 25],\n",
       " 'Ahmet': ['Turkey', 24]}"
      ]
     },
     "execution_count": 34,
     "metadata": {},
     "output_type": "execute_result"
    }
   ],
   "source": [
    "#### Görev 4 - Verilen sözlük yapısına aşağıdaki adımları uygulayınız.\n",
    "dict = {'Christian': [\"America\", 18],\n",
    "        'Daisy': [\"England\", 12],\n",
    "        'Antonio': [\"Spain\", 22],\n",
    "        'Dante': [\"Italy\", 25]}\n",
    "#Adım1: Key değerlerin erişiniz.\n",
    "print(f\"sözlüğün key değerleri : {dict.keys()}\")\n",
    "#Adım2: Value'lara erişiniz.\n",
    "print(f\"sözlüğün value değerleri : {dict.values()}\")\n",
    "#Adım3: Daisy key'ine ait 12 değerini 13 olarak güncelleyiniz.\n",
    "dict[\"Daisy\"][1] = 13\n",
    "#Adım4: Key değeri Ahmet value değeri [Turkey,24] olan yeni bir değer ekleyiniz.\n",
    "dict[\"Ahmet\"] = [\"Turkey\", 24]\n",
    "#Adım5: Antonio'yu dictionary'den siliniz.\n",
    "dict.pop(\"Antonio\")\n"
   ]
  },
  {
   "cell_type": "code",
   "execution_count": 38,
   "id": "7d98665b",
   "metadata": {},
   "outputs": [
    {
     "name": "stdout",
     "output_type": "stream",
     "text": [
      "even_list : [2, 18, 22]\n",
      "odd_list : [13, 93]\n"
     ]
    }
   ],
   "source": [
    "#### Görev 5 - Argüman olarak bir liste alan,\n",
    "# listenin içerisinde tek ve çift sayıları ayrı listeye atayan\n",
    "# ve bu listeleri return eden fonksiyon yazınız.\n",
    "# l = [2, 13, 18, 93, 22]\n",
    "# def func(..):\n",
    "#    ...\n",
    "#    ...\n",
    "#    return ..\n",
    "# even_ list, odd_list = func(l)\n",
    "\n",
    "l = [2,13,18,93,22]\n",
    "def func(list):\n",
    "    even_list = []\n",
    "    odd_list = []\n",
    "    for i in list:\n",
    "        if i % 2 == 0:\n",
    "            even_list.append(i)\n",
    "        else:\n",
    "            odd_list.append(i)\n",
    "    return even_list, odd_list\n",
    "even_list, odd_list = func(l)\n",
    "print(f\"even_list : {even_list}\\nodd_list : {odd_list}\")"
   ]
  },
  {
   "cell_type": "code",
   "execution_count": 41,
   "id": "2a907566",
   "metadata": {},
   "outputs": [
    {
     "name": "stdout",
     "output_type": "stream",
     "text": [
      "Mühendislik Fakültesi 1 . öğrenci Ali\n",
      "Mühendislik Fakültesi 2 . öğrenci Veli\n",
      "Mühendislik Fakültesi 3 . öğrenci Ayşe\n",
      "Tıp Fakültesi 4 . öğrenci Talat\n",
      "Tıp Fakültesi 5 . öğrenci Zeynep\n",
      "Tıp Fakültesi 6 . öğrenci Ece\n"
     ]
    }
   ],
   "source": [
    "#### Görev - 4: Aşağıda verilen listede mühendislik ve tıp fakültelerinde\n",
    "# dereceye giren öğrencilerin isimleri bulunmaktadır.\n",
    "# Sırasıyla ilk üç öğrenci mühendislik fakültesinin başarı sırasını temsil ederken\n",
    "# son üç öğrenci de tıp fakültesi öğrenci sırasına aittir.\n",
    "# Enumarate kullanarak öğrenci derecelerini fakülte özelinde yazdırınız.\n",
    "ogrenciler = [\"Ali\", \"Veli\", \"Ayşe\", \"Talat\", \"Zeynep\", \"Ece\"]\n",
    "\n",
    "for i,ogrenci in enumerate(ogrenciler,1):\n",
    "    if i < 4:\n",
    "        print(\"Mühendislik Fakültesi\", i, \". öğrenci\", ogrenci)\n",
    "    else:\n",
    "        print(\"Tıp Fakültesi\", i, \". öğrenci\", ogrenci)"
   ]
  },
  {
   "cell_type": "code",
   "execution_count": 44,
   "id": "4f6635af",
   "metadata": {},
   "outputs": [
    {
     "name": "stdout",
     "output_type": "stream",
     "text": [
      "Kredisi 3 olan CMP1005 kodlu dersin kontenjanı 30 dır.\n",
      "Kredisi 4 olan Psy1001 kodlu dersin kontenjanı 75 dır.\n",
      "Kredisi 2 olan Huk1005 kodlu dersin kontenjanı 150 dır.\n",
      "Kredisi 4 olan Sen2204 kodlu dersin kontenjanı 25 dır.\n"
     ]
    }
   ],
   "source": [
    "#### Görev 7 - Aşağıda 3 adet liste verilmiştir.\n",
    "# Listelerde sırası ile bir dersin kodu, kredisi ve kontenjan bilgileri yer almaktadır.\n",
    "# Zip kullanarak ders bilgilerini bastırınız.\n",
    "\n",
    "ders_kodu = [\"CMP1005\", \"Psy1001\", \"Huk1005\", \"Sen2204\"]\n",
    "kredi = [3,4,2,4]\n",
    "kontenjan = [30,75,150,25]\n",
    "zip_list = list(zip(ders_kodu,kredi,kontenjan))\n",
    "for ders_kodu, kredi, kontenjan in zip_list:\n",
    "    print(f\"Kredisi {kredi} olan {ders_kodu} kodlu dersin kontenjanı {kontenjan} dır.\")\n"
   ]
  },
  {
   "cell_type": "code",
   "execution_count": 48,
   "id": "5d6c0597",
   "metadata": {},
   "outputs": [
    {
     "name": "stdout",
     "output_type": "stream",
     "text": [
      "{'qcut', 'lambda', 'miuul', 'function'}\n"
     ]
    }
   ],
   "source": [
    "#### Görev 8 - Aşağıda 2 adet set verilmiştir. Sizden istenilen:\n",
    "# eğer 1. küme 2. kümeyi kapsiyor ise ortak elemanlarını\n",
    "# eğer kapsamıyor ise 2. kümenin 1. kümeden farkını yazdıracak fonksiyonu tanımlamanız beklenmektedir.\n",
    "\n",
    "kume1 = set([\"data\", \"python\"])\n",
    "kume2 = set([\"data\", \"function\", \"qcut\", \"lambda\", \"python\", \"miuul\"])\n",
    "def kume(set1,set2):\n",
    "    if set1.issuperset(set2):\n",
    "        print(set1.intersection(set2))\n",
    "    else:\n",
    "        print(set2.difference(set1))\n",
    "kume(kume1, kume2)\n"
   ]
  }
 ],
 "metadata": {
  "kernelspec": {
   "display_name": "Python 3 (ipykernel)",
   "language": "python",
   "name": "python3"
  },
  "language_info": {
   "codemirror_mode": {
    "name": "ipython",
    "version": 3
   },
   "file_extension": ".py",
   "mimetype": "text/x-python",
   "name": "python",
   "nbconvert_exporter": "python",
   "pygments_lexer": "ipython3",
   "version": "3.11.3"
  }
 },
 "nbformat": 4,
 "nbformat_minor": 5
}
